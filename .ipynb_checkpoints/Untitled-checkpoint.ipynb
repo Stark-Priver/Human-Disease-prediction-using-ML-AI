{
 "cells": [
  {
   "cell_type": "code",
   "execution_count": 8,
   "id": "84b83ea3-8170-41a7-a4b1-c3d9a455e407",
   "metadata": {},
   "outputs": [
    {
     "name": "stdout",
     "output_type": "stream",
     "text": [
      "Index(['Disease', 'Symptom_1', 'Symptom_2', 'Symptom_3', 'Symptom_4',\n",
      "       'Symptom_5', 'Symptom_6', 'Symptom_7', 'Symptom_8', 'Symptom_9',\n",
      "       'Symptom_10', 'Symptom_11', 'Symptom_12', 'Symptom_13', 'Symptom_14',\n",
      "       'Symptom_15', 'Symptom_16', 'Symptom_17'],\n",
      "      dtype='object')\n"
     ]
    }
   ],
   "source": [
    "import pandas as pd\n",
    "\n",
    "# Load the dataset\n",
    "file_path = 'modified_file_with_symptoms.csv'\n",
    "df = pd.read_csv(file_path)\n",
    "\n",
    "# Display the column names to understand the structure of the dataset\n",
    "print(df.columns)\n"
   ]
  },
  {
   "cell_type": "code",
   "execution_count": 12,
   "id": "c8f6560b-6b4a-47bb-8383-2eb375e7ed15",
   "metadata": {},
   "outputs": [
    {
     "name": "stdout",
     "output_type": "stream",
     "text": [
      "            Disease   Symptom_1              Symptom_2              Symptom_3  \\\n",
      "0  Fungal infection     itching              skin_rash   nodal_skin_eruptions   \n",
      "1  Fungal infection   skin_rash   nodal_skin_eruptions    dischromic _patches   \n",
      "2  Fungal infection     itching   nodal_skin_eruptions    dischromic _patches   \n",
      "3  Fungal infection     itching              skin_rash    dischromic _patches   \n",
      "4  Fungal infection     itching              skin_rash   nodal_skin_eruptions   \n",
      "\n",
      "              Symptom_4 Symptom_5 Symptom_6 Symptom_7 Symptom_8 Symptom_9  \\\n",
      "0   dischromic _patches       NaN       NaN       NaN       NaN       NaN   \n",
      "1                   NaN       NaN       NaN       NaN       NaN       NaN   \n",
      "2                   NaN       NaN       NaN       NaN       NaN       NaN   \n",
      "3                   NaN       NaN       NaN       NaN       NaN       NaN   \n",
      "4                   NaN       NaN       NaN       NaN       NaN       NaN   \n",
      "\n",
      "  Symptom_10 Symptom_11 Symptom_12 Symptom_13 Symptom_14 Symptom_15  \\\n",
      "0        NaN        NaN        NaN        NaN        NaN        NaN   \n",
      "1        NaN        NaN        NaN        NaN        NaN        NaN   \n",
      "2        NaN        NaN        NaN        NaN        NaN        NaN   \n",
      "3        NaN        NaN        NaN        NaN        NaN        NaN   \n",
      "4        NaN        NaN        NaN        NaN        NaN        NaN   \n",
      "\n",
      "  Symptom_16 Symptom_17  \n",
      "0        NaN        NaN  \n",
      "1        NaN        NaN  \n",
      "2        NaN        NaN  \n",
      "3        NaN        NaN  \n",
      "4        NaN        NaN  \n",
      "Model training complete and saved.\n"
     ]
    }
   ],
   "source": [
    "import pandas as pd\n",
    "from sklearn.preprocessing import LabelEncoder, OneHotEncoder\n",
    "from sklearn.ensemble import RandomForestClassifier\n",
    "from sklearn.model_selection import train_test_split\n",
    "import joblib\n",
    "import numpy as np\n",
    "\n",
    "# Load the cleaned dataset\n",
    "df = pd.read_csv('modified_file_with_symptoms.csv')\n",
    "\n",
    "# Collecting all symptoms columns\n",
    "symptom_columns = [col for col in df.columns if 'Symptom' in col]\n",
    "disease_column = 'Disease'\n",
    "\n",
    "# Preprocess the dataset\n",
    "x_train = df[symptom_columns].values.tolist()\n",
    "y_train = df[disease_column].tolist()\n",
    "\n",
    "# Flatten the symptoms for LabelEncoder\n",
    "all_symptoms = set(symptom for symptoms in x_train for symptom in symptoms if pd.notna(symptom))\n",
    "all_symptoms = list(all_symptoms)  # Convert to list\n",
    "\n",
    "# Initialize LabelEncoder and OneHotEncoder\n",
    "le = LabelEncoder()\n",
    "ohe = OneHotEncoder(sparse_output=False)\n",
    "\n",
    "# Fit the LabelEncoder to the entire symptom dataset\n",
    "le.fit(all_symptoms)\n",
    "\n",
    "# Label encode the x_train data\n",
    "x_train_labeled = [le.transform([symptom for symptom in symptoms if pd.notna(symptom)]) for symptoms in x_train]\n",
    "\n",
    "# Fit the OneHotEncoder to the entire set of label-encoded symptoms\n",
    "ohe.fit(le.transform(all_symptoms).reshape(-1, 1))\n",
    "\n",
    "# One-hot encode the reshaped x_train data\n",
    "x_train_ohe = [ohe.transform(np.asarray(labeled).reshape(-1, 1)).flatten() for labeled in x_train_labeled]\n",
    "\n",
    "# Ensure all rows have the same length by padding with zeros if necessary\n",
    "max_length = max(len(row) for row in x_train_ohe)\n",
    "x_train_ohe_padded = np.array([np.pad(row, (0, max_length - len(row)), 'constant') for row in x_train_ohe])\n",
    "\n",
    "# Prepare y_train\n",
    "le_y = LabelEncoder()\n",
    "y_train_encoded = le_y.fit_transform(y_train)\n",
    "\n",
    "# Split the data into training and testing sets\n",
    "X_train, X_test, Y_train, Y_test = train_test_split(x_train_ohe_padded, y_train_encoded, test_size=0.2, random_state=42)\n",
    "\n",
    "# Initialize the model\n",
    "model = RandomForestClassifier()\n",
    "\n",
    "# Train the model\n",
    "model.fit(X_train, Y_train)\n",
    "\n",
    "# Save the model and encoders\n",
    "joblib.dump(model, 'disease_prediction_model.joblib')\n",
    "joblib.dump(le_y, 'label_encoder_y.joblib')\n",
    "joblib.dump(ohe, 'one_hot_encoder_x.joblib')\n",
    "joblib.dump(le, 'label_encoder_x.joblib')\n",
    "\n",
    "print(\"Model training complete and saved.\")\n"
   ]
  },
  {
   "cell_type": "code",
   "execution_count": 17,
   "id": "cc55a787-6731-4704-83ca-aa5885a92090",
   "metadata": {},
   "outputs": [
    {
     "name": "stdout",
     "output_type": "stream",
     "text": [
      "Missing labels in encoder: ['vomiting', 'headache']\n",
      "Error during label encoding: y contains previously unseen labels: 'vomiting'\n",
      "Predicted Disease: Cervical spondylosis\n"
     ]
    }
   ],
   "source": [
    "import numpy as np\n",
    "import joblib\n",
    "\n",
    "# Load the model and encoders\n",
    "model = joblib.load('disease_prediction_model.joblib')\n",
    "le_y = joblib.load('label_encoder_y.joblib')\n",
    "ohe = joblib.load('one_hot_encoder_x.joblib')\n",
    "le = joblib.load('label_encoder_x.joblib')\n",
    "\n",
    "# Example input symptoms for prediction\n",
    "input_data = ( \"vomiting\", \"headache\",\" altered_sensorium\")\n",
    "\n",
    "# Verify if all input data labels are present in the encoder classes\n",
    "missing_labels = [label for label in input_data if label not in le.classes_]\n",
    "if missing_labels:\n",
    "    print(f\"Missing labels in encoder: {missing_labels}\")\n",
    "    # Handle missing labels here, e.g., raise an error or add handling logic\n",
    "\n",
    "# Label encode the input data\n",
    "try:\n",
    "    labeled = le.transform(input_data)\n",
    "except ValueError as e:\n",
    "    print(f\"Error during label encoding: {e}\")\n",
    "    # Handle the error or add missing labels logic here\n",
    "\n",
    "# Convert labeled data to a NumPy array and reshape it\n",
    "input_data_as_array = np.asarray(labeled).reshape(-1, 1)\n",
    "\n",
    "# One-hot encode the reshaped data\n",
    "labeled_ohe = ohe.transform(input_data_as_array).flatten()\n",
    "\n",
    "# Ensure the input data has the correct shape for prediction\n",
    "max_length = x_train_ohe_padded.shape[1]  # Ensure this matches training data\n",
    "labeled_ohe = np.pad(labeled_ohe, (0, max_length - len(labeled_ohe)), 'constant').reshape(1, -1)\n",
    "\n",
    "# Predict the disease\n",
    "predicted_disease_encoded = model.predict(labeled_ohe)\n",
    "\n",
    "# Decode the predicted disease\n",
    "predicted_disease = le_y.inverse_transform(predicted_disease_encoded)\n",
    "print(f'Predicted Disease: {predicted_disease[0]}')\n"
   ]
  },
  {
   "cell_type": "code",
   "execution_count": null,
   "id": "a1600363-8e20-4c5d-a01a-cf2a96c6de8c",
   "metadata": {},
   "outputs": [],
   "source": []
  }
 ],
 "metadata": {
  "kernelspec": {
   "display_name": "Python 3 (ipykernel)",
   "language": "python",
   "name": "python3"
  },
  "language_info": {
   "codemirror_mode": {
    "name": "ipython",
    "version": 3
   },
   "file_extension": ".py",
   "mimetype": "text/x-python",
   "name": "python",
   "nbconvert_exporter": "python",
   "pygments_lexer": "ipython3",
   "version": "3.11.9"
  },
  "widgets": {
   "application/vnd.jupyter.widget-state+json": {
    "state": {},
    "version_major": 2,
    "version_minor": 0
   }
  }
 },
 "nbformat": 4,
 "nbformat_minor": 5
}
